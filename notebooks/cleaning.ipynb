{
 "cells": [
  {
   "cell_type": "markdown",
   "metadata": {},
   "source": [
    "### Import modules"
   ]
  },
  {
   "cell_type": "code",
   "execution_count": 91,
   "metadata": {},
   "outputs": [],
   "source": [
    "import pandas as pd"
   ]
  },
  {
   "cell_type": "markdown",
   "metadata": {},
   "source": [
    "### Load data"
   ]
  },
  {
   "cell_type": "code",
   "execution_count": 92,
   "metadata": {},
   "outputs": [],
   "source": [
    "df_genre = pd.read_csv('../data/raw/autotagging_genre.tsv', sep='\\t')\n",
    "df_instrument = pd.read_csv('../data/raw/autotagging_instrument.tsv', sep='\\t')\n",
    "df_moodtheme = pd.read_csv('../data/raw/autotagging_moodtheme.tsv', sep='\\t')\n",
    "df_meta = pd.read_csv('../data/raw/raw.meta.tsv', sep='\\t')"
   ]
  },
  {
   "cell_type": "code",
   "execution_count": 93,
   "metadata": {},
   "outputs": [
    {
     "data": {
      "text/html": [
       "<div>\n",
       "<style scoped>\n",
       "    .dataframe tbody tr th:only-of-type {\n",
       "        vertical-align: middle;\n",
       "    }\n",
       "\n",
       "    .dataframe tbody tr th {\n",
       "        vertical-align: top;\n",
       "    }\n",
       "\n",
       "    .dataframe thead th {\n",
       "        text-align: right;\n",
       "    }\n",
       "</style>\n",
       "<table border=\"1\" class=\"dataframe\">\n",
       "  <thead>\n",
       "    <tr style=\"text-align: right;\">\n",
       "      <th></th>\n",
       "      <th>TRACK_ID</th>\n",
       "      <th>ARTIST_ID</th>\n",
       "      <th>ALBUM_ID</th>\n",
       "      <th>PATH</th>\n",
       "      <th>DURATION</th>\n",
       "      <th>TAGS</th>\n",
       "    </tr>\n",
       "  </thead>\n",
       "  <tbody>\n",
       "    <tr>\n",
       "      <th>0</th>\n",
       "      <td>track_0000214</td>\n",
       "      <td>artist_000014</td>\n",
       "      <td>album_000031</td>\n",
       "      <td>14/214.low.mp3</td>\n",
       "      <td>124.6</td>\n",
       "      <td>genre---punkrock</td>\n",
       "    </tr>\n",
       "    <tr>\n",
       "      <th>1</th>\n",
       "      <td>track_0000215</td>\n",
       "      <td>artist_000014</td>\n",
       "      <td>album_000031</td>\n",
       "      <td>15/215.low.mp3</td>\n",
       "      <td>151.4</td>\n",
       "      <td>genre---metal</td>\n",
       "    </tr>\n",
       "    <tr>\n",
       "      <th>2</th>\n",
       "      <td>track_0000216</td>\n",
       "      <td>artist_000014</td>\n",
       "      <td>album_000031</td>\n",
       "      <td>16/216.low.mp3</td>\n",
       "      <td>234.9</td>\n",
       "      <td>genre---metal</td>\n",
       "    </tr>\n",
       "    <tr>\n",
       "      <th>3</th>\n",
       "      <td>track_0000217</td>\n",
       "      <td>artist_000014</td>\n",
       "      <td>album_000031</td>\n",
       "      <td>17/217.low.mp3</td>\n",
       "      <td>127.9</td>\n",
       "      <td>genre---punkrock</td>\n",
       "    </tr>\n",
       "    <tr>\n",
       "      <th>4</th>\n",
       "      <td>track_0000218</td>\n",
       "      <td>artist_000014</td>\n",
       "      <td>album_000031</td>\n",
       "      <td>18/218.low.mp3</td>\n",
       "      <td>180.7</td>\n",
       "      <td>genre---punkrock</td>\n",
       "    </tr>\n",
       "  </tbody>\n",
       "</table>\n",
       "</div>"
      ],
      "text/plain": [
       "        TRACK_ID      ARTIST_ID      ALBUM_ID            PATH  DURATION  \\\n",
       "0  track_0000214  artist_000014  album_000031  14/214.low.mp3     124.6   \n",
       "1  track_0000215  artist_000014  album_000031  15/215.low.mp3     151.4   \n",
       "2  track_0000216  artist_000014  album_000031  16/216.low.mp3     234.9   \n",
       "3  track_0000217  artist_000014  album_000031  17/217.low.mp3     127.9   \n",
       "4  track_0000218  artist_000014  album_000031  18/218.low.mp3     180.7   \n",
       "\n",
       "               TAGS  \n",
       "0  genre---punkrock  \n",
       "1     genre---metal  \n",
       "2     genre---metal  \n",
       "3  genre---punkrock  \n",
       "4  genre---punkrock  "
      ]
     },
     "execution_count": 93,
     "metadata": {},
     "output_type": "execute_result"
    }
   ],
   "source": [
    "df_genre.head()"
   ]
  },
  {
   "cell_type": "code",
   "execution_count": 94,
   "metadata": {},
   "outputs": [
    {
     "data": {
      "text/html": [
       "<div>\n",
       "<style scoped>\n",
       "    .dataframe tbody tr th:only-of-type {\n",
       "        vertical-align: middle;\n",
       "    }\n",
       "\n",
       "    .dataframe tbody tr th {\n",
       "        vertical-align: top;\n",
       "    }\n",
       "\n",
       "    .dataframe thead th {\n",
       "        text-align: right;\n",
       "    }\n",
       "</style>\n",
       "<table border=\"1\" class=\"dataframe\">\n",
       "  <thead>\n",
       "    <tr style=\"text-align: right;\">\n",
       "      <th></th>\n",
       "      <th>TRACK_ID</th>\n",
       "      <th>ARTIST_ID</th>\n",
       "      <th>ALBUM_ID</th>\n",
       "      <th>PATH</th>\n",
       "      <th>DURATION</th>\n",
       "      <th>TAGS</th>\n",
       "    </tr>\n",
       "  </thead>\n",
       "  <tbody>\n",
       "    <tr>\n",
       "      <th>0</th>\n",
       "      <td>track_0000382</td>\n",
       "      <td>artist_000020</td>\n",
       "      <td>album_000046</td>\n",
       "      <td>82/382.low.mp3</td>\n",
       "      <td>211.1</td>\n",
       "      <td>instrument---voice</td>\n",
       "    </tr>\n",
       "    <tr>\n",
       "      <th>1</th>\n",
       "      <td>track_0000383</td>\n",
       "      <td>artist_000020</td>\n",
       "      <td>album_000046</td>\n",
       "      <td>83/383.low.mp3</td>\n",
       "      <td>113.1</td>\n",
       "      <td>instrument---voice</td>\n",
       "    </tr>\n",
       "    <tr>\n",
       "      <th>2</th>\n",
       "      <td>track_0000384</td>\n",
       "      <td>artist_000020</td>\n",
       "      <td>album_000046</td>\n",
       "      <td>84/384.low.mp3</td>\n",
       "      <td>115.7</td>\n",
       "      <td>instrument---voice</td>\n",
       "    </tr>\n",
       "    <tr>\n",
       "      <th>3</th>\n",
       "      <td>track_0000386</td>\n",
       "      <td>artist_000020</td>\n",
       "      <td>album_000046</td>\n",
       "      <td>86/386.low.mp3</td>\n",
       "      <td>103.4</td>\n",
       "      <td>instrument---voice</td>\n",
       "    </tr>\n",
       "    <tr>\n",
       "      <th>4</th>\n",
       "      <td>track_0000387</td>\n",
       "      <td>artist_000020</td>\n",
       "      <td>album_000046</td>\n",
       "      <td>87/387.low.mp3</td>\n",
       "      <td>257.1</td>\n",
       "      <td>instrument---voice</td>\n",
       "    </tr>\n",
       "  </tbody>\n",
       "</table>\n",
       "</div>"
      ],
      "text/plain": [
       "        TRACK_ID      ARTIST_ID      ALBUM_ID            PATH  DURATION  \\\n",
       "0  track_0000382  artist_000020  album_000046  82/382.low.mp3     211.1   \n",
       "1  track_0000383  artist_000020  album_000046  83/383.low.mp3     113.1   \n",
       "2  track_0000384  artist_000020  album_000046  84/384.low.mp3     115.7   \n",
       "3  track_0000386  artist_000020  album_000046  86/386.low.mp3     103.4   \n",
       "4  track_0000387  artist_000020  album_000046  87/387.low.mp3     257.1   \n",
       "\n",
       "                 TAGS  \n",
       "0  instrument---voice  \n",
       "1  instrument---voice  \n",
       "2  instrument---voice  \n",
       "3  instrument---voice  \n",
       "4  instrument---voice  "
      ]
     },
     "execution_count": 94,
     "metadata": {},
     "output_type": "execute_result"
    }
   ],
   "source": [
    "df_instrument.head()"
   ]
  },
  {
   "cell_type": "code",
   "execution_count": 95,
   "metadata": {},
   "outputs": [
    {
     "data": {
      "text/html": [
       "<div>\n",
       "<style scoped>\n",
       "    .dataframe tbody tr th:only-of-type {\n",
       "        vertical-align: middle;\n",
       "    }\n",
       "\n",
       "    .dataframe tbody tr th {\n",
       "        vertical-align: top;\n",
       "    }\n",
       "\n",
       "    .dataframe thead th {\n",
       "        text-align: right;\n",
       "    }\n",
       "</style>\n",
       "<table border=\"1\" class=\"dataframe\">\n",
       "  <thead>\n",
       "    <tr style=\"text-align: right;\">\n",
       "      <th></th>\n",
       "      <th>TRACK_ID</th>\n",
       "      <th>ARTIST_ID</th>\n",
       "      <th>ALBUM_ID</th>\n",
       "      <th>PATH</th>\n",
       "      <th>DURATION</th>\n",
       "      <th>TAGS</th>\n",
       "    </tr>\n",
       "  </thead>\n",
       "  <tbody>\n",
       "    <tr>\n",
       "      <th>0</th>\n",
       "      <td>track_0000948</td>\n",
       "      <td>artist_000087</td>\n",
       "      <td>album_000149</td>\n",
       "      <td>48/948.low.mp3</td>\n",
       "      <td>212.7</td>\n",
       "      <td>mood/theme---background</td>\n",
       "    </tr>\n",
       "    <tr>\n",
       "      <th>1</th>\n",
       "      <td>track_0000950</td>\n",
       "      <td>artist_000087</td>\n",
       "      <td>album_000149</td>\n",
       "      <td>50/950.low.mp3</td>\n",
       "      <td>248.0</td>\n",
       "      <td>mood/theme---background</td>\n",
       "    </tr>\n",
       "    <tr>\n",
       "      <th>2</th>\n",
       "      <td>track_0000951</td>\n",
       "      <td>artist_000087</td>\n",
       "      <td>album_000149</td>\n",
       "      <td>51/951.low.mp3</td>\n",
       "      <td>199.7</td>\n",
       "      <td>mood/theme---background</td>\n",
       "    </tr>\n",
       "    <tr>\n",
       "      <th>3</th>\n",
       "      <td>track_0002165</td>\n",
       "      <td>artist_000326</td>\n",
       "      <td>album_000347</td>\n",
       "      <td>65/2165.low.mp3</td>\n",
       "      <td>229.0</td>\n",
       "      <td>mood/theme---film</td>\n",
       "    </tr>\n",
       "    <tr>\n",
       "      <th>4</th>\n",
       "      <td>track_0002263</td>\n",
       "      <td>artist_000320</td>\n",
       "      <td>album_000366</td>\n",
       "      <td>63/2263.low.mp3</td>\n",
       "      <td>494.7</td>\n",
       "      <td>mood/theme---melancholic</td>\n",
       "    </tr>\n",
       "  </tbody>\n",
       "</table>\n",
       "</div>"
      ],
      "text/plain": [
       "        TRACK_ID      ARTIST_ID      ALBUM_ID             PATH  DURATION  \\\n",
       "0  track_0000948  artist_000087  album_000149   48/948.low.mp3     212.7   \n",
       "1  track_0000950  artist_000087  album_000149   50/950.low.mp3     248.0   \n",
       "2  track_0000951  artist_000087  album_000149   51/951.low.mp3     199.7   \n",
       "3  track_0002165  artist_000326  album_000347  65/2165.low.mp3     229.0   \n",
       "4  track_0002263  artist_000320  album_000366  63/2263.low.mp3     494.7   \n",
       "\n",
       "                       TAGS  \n",
       "0   mood/theme---background  \n",
       "1   mood/theme---background  \n",
       "2   mood/theme---background  \n",
       "3         mood/theme---film  \n",
       "4  mood/theme---melancholic  "
      ]
     },
     "execution_count": 95,
     "metadata": {},
     "output_type": "execute_result"
    }
   ],
   "source": [
    "df_moodtheme.head()"
   ]
  },
  {
   "cell_type": "code",
   "execution_count": 96,
   "metadata": {},
   "outputs": [
    {
     "data": {
      "text/html": [
       "<div>\n",
       "<style scoped>\n",
       "    .dataframe tbody tr th:only-of-type {\n",
       "        vertical-align: middle;\n",
       "    }\n",
       "\n",
       "    .dataframe tbody tr th {\n",
       "        vertical-align: top;\n",
       "    }\n",
       "\n",
       "    .dataframe thead th {\n",
       "        text-align: right;\n",
       "    }\n",
       "</style>\n",
       "<table border=\"1\" class=\"dataframe\">\n",
       "  <thead>\n",
       "    <tr style=\"text-align: right;\">\n",
       "      <th></th>\n",
       "      <th>TRACK_ID</th>\n",
       "      <th>ARTIST_ID</th>\n",
       "      <th>ALBUM_ID</th>\n",
       "      <th>TRACK_NAME</th>\n",
       "      <th>ARTIST_NAME</th>\n",
       "      <th>ALBUM_NAME</th>\n",
       "      <th>RELEASEDATE</th>\n",
       "      <th>URL</th>\n",
       "    </tr>\n",
       "  </thead>\n",
       "  <tbody>\n",
       "    <tr>\n",
       "      <th>0</th>\n",
       "      <td>track_0000214</td>\n",
       "      <td>artist_000014</td>\n",
       "      <td>album_000031</td>\n",
       "      <td>Intro chiante</td>\n",
       "      <td>David TMX</td>\n",
       "      <td>Pouce !</td>\n",
       "      <td>2004-12-28</td>\n",
       "      <td>http://www.jamendo.com/track/214</td>\n",
       "    </tr>\n",
       "    <tr>\n",
       "      <th>1</th>\n",
       "      <td>track_0000215</td>\n",
       "      <td>artist_000014</td>\n",
       "      <td>album_000031</td>\n",
       "      <td>Aide toi...</td>\n",
       "      <td>David TMX</td>\n",
       "      <td>Pouce !</td>\n",
       "      <td>2004-12-28</td>\n",
       "      <td>http://www.jamendo.com/track/215</td>\n",
       "    </tr>\n",
       "    <tr>\n",
       "      <th>2</th>\n",
       "      <td>track_0000216</td>\n",
       "      <td>artist_000014</td>\n",
       "      <td>album_000031</td>\n",
       "      <td>Une charogne</td>\n",
       "      <td>David TMX</td>\n",
       "      <td>Pouce !</td>\n",
       "      <td>2004-12-28</td>\n",
       "      <td>http://www.jamendo.com/track/216</td>\n",
       "    </tr>\n",
       "    <tr>\n",
       "      <th>3</th>\n",
       "      <td>track_0000217</td>\n",
       "      <td>artist_000014</td>\n",
       "      <td>album_000031</td>\n",
       "      <td>Aimons nous...</td>\n",
       "      <td>David TMX</td>\n",
       "      <td>Pouce !</td>\n",
       "      <td>2004-12-28</td>\n",
       "      <td>http://www.jamendo.com/track/217</td>\n",
       "    </tr>\n",
       "    <tr>\n",
       "      <th>4</th>\n",
       "      <td>track_0000218</td>\n",
       "      <td>artist_000014</td>\n",
       "      <td>album_000031</td>\n",
       "      <td>Jouvencelle</td>\n",
       "      <td>David TMX</td>\n",
       "      <td>Pouce !</td>\n",
       "      <td>2004-12-28</td>\n",
       "      <td>http://www.jamendo.com/track/218</td>\n",
       "    </tr>\n",
       "  </tbody>\n",
       "</table>\n",
       "</div>"
      ],
      "text/plain": [
       "        TRACK_ID      ARTIST_ID      ALBUM_ID      TRACK_NAME ARTIST_NAME  \\\n",
       "0  track_0000214  artist_000014  album_000031   Intro chiante   David TMX   \n",
       "1  track_0000215  artist_000014  album_000031     Aide toi...   David TMX   \n",
       "2  track_0000216  artist_000014  album_000031    Une charogne   David TMX   \n",
       "3  track_0000217  artist_000014  album_000031  Aimons nous...   David TMX   \n",
       "4  track_0000218  artist_000014  album_000031     Jouvencelle   David TMX   \n",
       "\n",
       "  ALBUM_NAME RELEASEDATE                               URL  \n",
       "0    Pouce !  2004-12-28  http://www.jamendo.com/track/214  \n",
       "1    Pouce !  2004-12-28  http://www.jamendo.com/track/215  \n",
       "2    Pouce !  2004-12-28  http://www.jamendo.com/track/216  \n",
       "3    Pouce !  2004-12-28  http://www.jamendo.com/track/217  \n",
       "4    Pouce !  2004-12-28  http://www.jamendo.com/track/218  "
      ]
     },
     "execution_count": 96,
     "metadata": {},
     "output_type": "execute_result"
    }
   ],
   "source": [
    "df_meta.head()"
   ]
  },
  {
   "cell_type": "markdown",
   "metadata": {},
   "source": [
    "### Cleaning data"
   ]
  },
  {
   "cell_type": "code",
   "execution_count": 97,
   "metadata": {},
   "outputs": [
    {
     "name": "stdout",
     "output_type": "stream",
     "text": [
      "TRACK_ID     0\n",
      "ARTIST_ID    0\n",
      "ALBUM_ID     0\n",
      "PATH         0\n",
      "DURATION     0\n",
      "TAGS         0\n",
      "dtype: int64\n",
      "TRACK_ID     0\n",
      "ARTIST_ID    0\n",
      "ALBUM_ID     0\n",
      "PATH         0\n",
      "DURATION     0\n",
      "TAGS         0\n",
      "dtype: int64\n",
      "TRACK_ID     0\n",
      "ARTIST_ID    0\n",
      "ALBUM_ID     0\n",
      "PATH         0\n",
      "DURATION     0\n",
      "TAGS         0\n",
      "dtype: int64\n",
      "TRACK_ID       0\n",
      "ARTIST_ID      0\n",
      "ALBUM_ID       0\n",
      "TRACK_NAME     0\n",
      "ARTIST_NAME    0\n",
      "ALBUM_NAME     0\n",
      "RELEASEDATE    0\n",
      "URL            0\n",
      "dtype: int64\n"
     ]
    }
   ],
   "source": [
    "print(df_genre.isnull().sum())\n",
    "print(df_instrument.isnull().sum())\n",
    "print(df_moodtheme.isnull().sum())\n",
    "print(df_meta.isnull().sum())"
   ]
  },
  {
   "cell_type": "code",
   "execution_count": 98,
   "metadata": {},
   "outputs": [],
   "source": [
    "df_genre = df_genre.drop_duplicates(subset=['TRACK_ID'])\n",
    "df_instrument = df_instrument.drop_duplicates(subset=['TRACK_ID'])\n",
    "df_moodtheme = df_moodtheme.drop_duplicates(subset=['TRACK_ID'])\n",
    "df_meta = df_meta.drop_duplicates(subset=['TRACK_ID'])"
   ]
  },
  {
   "cell_type": "markdown",
   "metadata": {},
   "source": [
    "### Transform tags columns"
   ]
  },
  {
   "cell_type": "code",
   "execution_count": 99,
   "metadata": {},
   "outputs": [],
   "source": [
    "def genre_tags_to_list(tags):\n",
    "    if isinstance(tags, str):\n",
    "        return [tag.strip() for tag in tags.split('genre---') if tag.strip()]\n",
    "    return []\n",
    "\n",
    "def instrument_tags_to_list(tags):\n",
    "    if isinstance(tags, str):\n",
    "        return [tag.strip() for tag in tags.split('instrument---') if tag.strip()]\n",
    "    return []\n",
    "\n",
    "def moodtheme_tags_to_list(tags):\n",
    "    if isinstance(tags, str):\n",
    "        return [tag.strip() for tag in tags.split('mood/theme---') if tag.strip()]\n",
    "    return []"
   ]
  },
  {
   "cell_type": "code",
   "execution_count": 100,
   "metadata": {},
   "outputs": [],
   "source": [
    "df_genre['GENRES'] = df_genre['TAGS'].apply(genre_tags_to_list)\n",
    "df_instrument['INSTRUMENTS'] = df_instrument['TAGS'].apply(instrument_tags_to_list)\n",
    "df_moodtheme['MOOD_THEME'] = df_moodtheme['TAGS'].apply(moodtheme_tags_to_list)"
   ]
  },
  {
   "cell_type": "markdown",
   "metadata": {},
   "source": [
    "### Merge dataframes"
   ]
  },
  {
   "cell_type": "code",
   "execution_count": 141,
   "metadata": {},
   "outputs": [],
   "source": [
    "df_meta_selected = df_meta.drop(columns=['URL'])\n",
    "df_genre_selected = df_genre[['TRACK_ID', 'PATH', 'DURATION', 'GENRES']]\n",
    "df_instrument_selected = df_instrument[['TRACK_ID', 'INSTRUMENTS']]\n",
    "df_moodtheme_selected = df_moodtheme[['TRACK_ID', 'MOOD_THEME']]\n",
    "\n",
    "df_merged = pd.merge(df_meta_selected, df_genre_selected, on='TRACK_ID', how='left')\n",
    "df_merged = pd.merge(df_merged, df_instrument_selected, on='TRACK_ID', how='left')\n",
    "df_merged = pd.merge(df_merged, df_moodtheme_selected, on='TRACK_ID', how='left')"
   ]
  },
  {
   "cell_type": "code",
   "execution_count": 142,
   "metadata": {},
   "outputs": [
    {
     "name": "stdout",
     "output_type": "stream",
     "text": [
      "TRACK_ID           0\n",
      "ARTIST_ID          0\n",
      "ALBUM_ID           0\n",
      "TRACK_NAME         0\n",
      "ARTIST_NAME        0\n",
      "ALBUM_NAME         0\n",
      "RELEASEDATE        0\n",
      "PATH            1424\n",
      "DURATION        1424\n",
      "GENRES          1424\n",
      "INSTRUMENTS    31496\n",
      "MOOD_THEME     38153\n",
      "dtype: int64\n"
     ]
    }
   ],
   "source": [
    "print(df_merged.isnull().sum())"
   ]
  },
  {
   "cell_type": "code",
   "execution_count": 143,
   "metadata": {},
   "outputs": [],
   "source": [
    "df_merged = df_merged.dropna(subset=['PATH'])"
   ]
  },
  {
   "cell_type": "code",
   "execution_count": 144,
   "metadata": {},
   "outputs": [
    {
     "name": "stdout",
     "output_type": "stream",
     "text": [
      "TRACK_ID           0\n",
      "ARTIST_ID          0\n",
      "ALBUM_ID           0\n",
      "TRACK_NAME         0\n",
      "ARTIST_NAME        0\n",
      "ALBUM_NAME         0\n",
      "RELEASEDATE        0\n",
      "PATH               0\n",
      "DURATION           0\n",
      "GENRES             0\n",
      "INSTRUMENTS    30313\n",
      "MOOD_THEME     36960\n",
      "dtype: int64\n"
     ]
    }
   ],
   "source": [
    "print(df_merged.isnull().sum())"
   ]
  },
  {
   "cell_type": "code",
   "execution_count": 146,
   "metadata": {},
   "outputs": [],
   "source": [
    "df_merged['INSTRUMENTS'] = df_merged['INSTRUMENTS'].apply(lambda x: x if isinstance(x, list) else ['unknown'])\n",
    "df_merged['MOOD_THEME'] = df_merged['MOOD_THEME'].apply(lambda x: x if isinstance(x, list) else ['unknown'])"
   ]
  },
  {
   "cell_type": "code",
   "execution_count": 147,
   "metadata": {},
   "outputs": [
    {
     "name": "stdout",
     "output_type": "stream",
     "text": [
      "TRACK_ID       0\n",
      "ARTIST_ID      0\n",
      "ALBUM_ID       0\n",
      "TRACK_NAME     0\n",
      "ARTIST_NAME    0\n",
      "ALBUM_NAME     0\n",
      "RELEASEDATE    0\n",
      "PATH           0\n",
      "DURATION       0\n",
      "GENRES         0\n",
      "INSTRUMENTS    0\n",
      "MOOD_THEME     0\n",
      "dtype: int64\n"
     ]
    }
   ],
   "source": [
    "print(df_merged.isnull().sum())"
   ]
  }
 ],
 "metadata": {
  "kernelspec": {
   "display_name": "Python 3",
   "language": "python",
   "name": "python3"
  },
  "language_info": {
   "codemirror_mode": {
    "name": "ipython",
    "version": 3
   },
   "file_extension": ".py",
   "mimetype": "text/x-python",
   "name": "python",
   "nbconvert_exporter": "python",
   "pygments_lexer": "ipython3",
   "version": "3.12.3"
  }
 },
 "nbformat": 4,
 "nbformat_minor": 2
}
